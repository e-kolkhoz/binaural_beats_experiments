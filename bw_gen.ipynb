{
 "cells": [
  {
   "cell_type": "code",
   "execution_count": 2,
   "metadata": {},
   "outputs": [],
   "source": [
    "from pydub import AudioSegment # pip3 install pydub\n",
    "\n",
    "import numpy as np\n",
    "import scipy.signal"
   ]
  },
  {
   "cell_type": "code",
   "execution_count": 3,
   "metadata": {},
   "outputs": [
    {
     "name": "stdout",
     "output_type": "stream",
     "text": [
      "binaural beat freq = 40, durarion = 900 seconds\n"
     ]
    }
   ],
   "source": [
    "fs = 44100\n",
    "duration_s = 60 * 15\n",
    "freqL = 420\n",
    "freqR = 460\n",
    "print(f'binaural beat freq = {abs(freqL-freqR)}, durarion = {duration_s} seconds')"
   ]
  },
  {
   "cell_type": "code",
   "execution_count": 4,
   "metadata": {},
   "outputs": [],
   "source": [
    "ts = np.arange(duration_s * fs) / fs\n",
    "freq2tone = lambda freq: (np.sin(2 * np.pi * freq * ts)*32000).astype(np.int16)"
   ]
  },
  {
   "cell_type": "code",
   "execution_count": 5,
   "metadata": {},
   "outputs": [],
   "source": [
    "sigL, sigR = freq2tone(freqL), freq2tone(freqR)"
   ]
  },
  {
   "cell_type": "code",
   "execution_count": 8,
   "metadata": {},
   "outputs": [],
   "source": [
    "channelL = AudioSegment(sigL.tobytes(), frame_rate=fs, sample_width=sigL.dtype.itemsize, channels=1)\n",
    "channelR = AudioSegment(sigR.tobytes(), frame_rate=fs, sample_width=sigR.dtype.itemsize, channels=1)\n",
    "stereo_sound = AudioSegment.from_mono_audiosegments(channelL, channelR)"
   ]
  },
  {
   "cell_type": "code",
   "execution_count": 9,
   "metadata": {},
   "outputs": [
    {
     "data": {
      "text/plain": [
       "<_io.BufferedRandom name='40hz-beats.mp3'>"
      ]
     },
     "execution_count": 9,
     "metadata": {},
     "output_type": "execute_result"
    }
   ],
   "source": [
    "stereo_sound.export(\"40hz-beats.mp3\", format=\"mp3\")"
   ]
  },
  {
   "cell_type": "code",
   "execution_count": null,
   "metadata": {},
   "outputs": [],
   "source": []
  }
 ],
 "metadata": {
  "kernelspec": {
   "display_name": "Python 3",
   "language": "python",
   "name": "python3"
  },
  "language_info": {
   "codemirror_mode": {
    "name": "ipython",
    "version": 3
   },
   "file_extension": ".py",
   "mimetype": "text/x-python",
   "name": "python",
   "nbconvert_exporter": "python",
   "pygments_lexer": "ipython3",
   "version": "3.6.9"
  }
 },
 "nbformat": 4,
 "nbformat_minor": 4
}
